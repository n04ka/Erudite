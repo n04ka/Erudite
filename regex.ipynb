{
 "cells": [
  {
   "cell_type": "code",
   "execution_count": 2,
   "metadata": {},
   "outputs": [
    {
     "name": "stdout",
     "output_type": "stream",
     "text": [
      "Loading characters...OK\n",
      "Loading dictionary...OK\n",
      "Loading textures...OK\n"
     ]
    }
   ],
   "source": [
    "from re import fullmatch\n",
    "from resourceManager import Content\n",
    "from core import Pack\n",
    "\n",
    "Content.load(True)\n",
    "pack = Pack()"
   ]
  },
  {
   "cell_type": "code",
   "execution_count": 5,
   "metadata": {},
   "outputs": [
    {
     "name": "stdout",
     "output_type": "stream",
     "text": [
      "уа\n",
      "..д.р..\n",
      "{'ад', 'ар', 'ура', 'уда', 'удар', 'дура', 'дар', 'уд'}\n"
     ]
    }
   ],
   "source": [
    "pool = \"уа\"\n",
    "print(pool)\n",
    "all_words = Content.definition.keys()\n",
    "print(\"..д.р..\")\n",
    "pattern1 = f\"([{pool}]|^)([{pool}]|^)д([{pool}]|$)(р|$)([{pool}]|$)([{pool}]|$)\"\n",
    "pattern2 = f\"([{pool}]|^)([{pool}]|^)(д|^)([{pool}]|^)р([{pool}]|$)([{pool}]|$)\"\n",
    "\n",
    "filtered1 = set(filter(lambda word: bool(fullmatch(f\"({pattern1}|{pattern2})\", word)), all_words))\n",
    "print(filtered1)"
   ]
  }
 ],
 "metadata": {
  "kernelspec": {
   "display_name": "Python 3",
   "language": "python",
   "name": "python3"
  },
  "language_info": {
   "codemirror_mode": {
    "name": "ipython",
    "version": 3
   },
   "file_extension": ".py",
   "mimetype": "text/x-python",
   "name": "python",
   "nbconvert_exporter": "python",
   "pygments_lexer": "ipython3",
   "version": "3.11.5"
  },
  "orig_nbformat": 4
 },
 "nbformat": 4,
 "nbformat_minor": 2
}
