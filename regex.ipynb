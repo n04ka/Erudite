{
 "cells": [
  {
   "cell_type": "code",
   "execution_count": 12,
   "metadata": {},
   "outputs": [
    {
     "name": "stdout",
     "output_type": "stream",
     "text": [
      "Loading characters...OK\n",
      "Loading dictionary...OK\n",
      "Loading textures...OK\n"
     ]
    }
   ],
   "source": [
    "from re import fullmatch\n",
    "from resourceManager import Content\n",
    "from core import Pack\n",
    "\n",
    "Content.load(True)\n",
    "pack = Pack()"
   ]
  },
  {
   "cell_type": "code",
   "execution_count": 13,
   "metadata": {},
   "outputs": [],
   "source": [
    "def find_points_of_interest(contents: str | list[str]) -> list[int]:\n",
    "    if not any(contents):\n",
    "        return []\n",
    "    points_of_interest = []\n",
    "    for i in range(len(contents)-1):\n",
    "        if bool(contents[i]) != bool(contents[i+1]):\n",
    "            points_of_interest.append(i)\n",
    "    return points_of_interest"
   ]
  },
  {
   "cell_type": "code",
   "execution_count": 14,
   "metadata": {},
   "outputs": [
    {
     "name": "stdout",
     "output_type": "stream",
     "text": [
      "уа\n",
      "..д.р..\n",
      "{'ура', 'дар', 'ар', 'дура', 'ад', 'удар', 'уд', 'уда'}\n"
     ]
    }
   ],
   "source": [
    "pool = \"уа\"\n",
    "print(pool)\n",
    "all_words = Content.definition.keys()\n",
    "print(\"..д.р..\")\n",
    "pattern1 = f\"([{pool}]|^)([{pool}]|^)д([{pool}]|$)(р|$)([{pool}]|$)([{pool}]|$)\"\n",
    "pattern2 = f\"([{pool}]|^)([{pool}]|^)(д|^)([{pool}]|^)р([{pool}]|$)([{pool}]|$)\"\n",
    "\n",
    "filtered1 = set(filter(lambda word: bool(fullmatch(f\"({pattern1}|{pattern2})\", word)), all_words))\n",
    "print(filtered1)"
   ]
  },
  {
   "cell_type": "code",
   "execution_count": 23,
   "metadata": {},
   "outputs": [
    {
     "name": "stdout",
     "output_type": "stream",
     "text": [
      "(([уа]|^)[уа]д([уа]|$)(р|$)([уа]|$)([уа]|$)|([уа]|^)([уа]|^)д[уа](р|$)([уа]|$)([уа]|$)|([уа]|^)([уа]|^)(д|^)[уа]р([уа]|$)([уа]|$)|([уа]|^)([уа]|^)(д|^)([уа]|^)р[уа]([уа]|$))\n"
     ]
    },
    {
     "data": {
      "text/plain": [
       "{'ад', 'ар', 'дар', 'дура', 'уд', 'уда', 'удар', 'ура'}"
      ]
     },
     "execution_count": 23,
     "metadata": {},
     "output_type": "execute_result"
    }
   ],
   "source": [
    "row = [\"\", \"\", \"д\", \"\", \"р\", \"\", \"\"]\n",
    "pool = \"уа\"\n",
    "patterns = []\n",
    "unknown_char_before = f\"([{pool}]|^)\"\n",
    "unknown_char_after = f\"([{pool}]|$)\"\n",
    "\n",
    "for i in find_points_of_interest(row):\n",
    "    char_patterns = []\n",
    "    for _ in range(i):\n",
    "        if row[_] == \"\":\n",
    "            char_patterns.append(unknown_char_before)\n",
    "        else:\n",
    "            char_patterns.append(f\"({row[_]}|^)\")\n",
    "\n",
    "    char_patterns.append(f\"[{pool}]\" if row[i] == \"\" else f\"{row[i]}\")\n",
    "    char_patterns.append(f\"[{pool}]\" if row[i+1] == \"\" else f\"{row[i+1]}\")\n",
    "        \n",
    "    for _ in range(i+2, len(row)):\n",
    "        if row[_] == \"\":\n",
    "            char_patterns.append(unknown_char_after)\n",
    "        else:\n",
    "            char_patterns.append(f\"({row[_]}|$)\")   \n",
    "    patterns.append(\"\".join(char_patterns))\n",
    "\n",
    "print(f\"({'|'.join(patterns)})\")\n",
    "filtered = set(filter(lambda word: bool(fullmatch(f\"({'|'.join(patterns)})\", word)), all_words))\n",
    "filtered"
   ]
  },
  {
   "cell_type": "code",
   "execution_count": 7,
   "metadata": {},
   "outputs": [
    {
     "name": "stdout",
     "output_type": "stream",
     "text": [
      "even: 0\n",
      "odd: 1\n",
      "even: 2\n",
      "odd: 3\n",
      "even: 4\n",
      "odd: 5\n",
      "even: 6\n",
      "odd: 7\n",
      "even: 8\n",
      "odd: 9\n"
     ]
    }
   ],
   "source": [
    "from events import Events\n",
    "\n",
    "def even_found(reason):\n",
    "    print(\"even:\", reason)\n",
    "\n",
    "def odd_found(reason):\n",
    "    print(\"odd:\", reason)\n",
    "\n",
    "events = Events((\"on_odd\", \"on_even\"))\n",
    "\n",
    "events.on_even += even_found\n",
    "events.on_odd += odd_found\n",
    "\n",
    "for i in range(10):\n",
    "    if i % 2:\n",
    "        events.on_odd(i)\n",
    "    else:\n",
    "        events.on_even(i)"
   ]
  }
 ],
 "metadata": {
  "kernelspec": {
   "display_name": "Python 3",
   "language": "python",
   "name": "python3"
  },
  "language_info": {
   "codemirror_mode": {
    "name": "ipython",
    "version": 3
   },
   "file_extension": ".py",
   "mimetype": "text/x-python",
   "name": "python",
   "nbconvert_exporter": "python",
   "pygments_lexer": "ipython3",
   "version": "3.11.5"
  },
  "orig_nbformat": 4
 },
 "nbformat": 4,
 "nbformat_minor": 2
}
